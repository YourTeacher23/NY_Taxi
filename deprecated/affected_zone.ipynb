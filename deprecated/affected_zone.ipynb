{
 "cells": [
  {
   "cell_type": "code",
   "execution_count": null,
   "metadata": {},
   "outputs": [],
   "source": [
    "import numpy as np\n",
    "def affected_zone(df, distance):\n",
    "    \n",
    "    \"\"\" Calculate the maximum and minimum longitude and \n",
    "    latitude to form a zone affected by the traffic collision \"\"\"\n",
    "    \n",
    "    # Given the distance in metres, calculate the change in degree\n",
    "    lat_angle = 0.001 * (distance / 2.0) * np.cos(df['LATITUDE'])\n",
    "    lon_angle = 0.001 * (distance / 2.0) * np.cos(df['LONGITUDE'])\n",
    "    lat_max = df['LATITUDE'] - lat_angle\n",
    "    lat_min = df['LATITUDE'] + lat_angle\n",
    "    lon_max = df['LONGITUDE'] - lon_angle\n",
    "    lon_min = df['LONGITUDE'] + lon_angle\n",
    "    \n",
    "    new_dict = {'max_lat': lat_max, 'min_lat': lat_min, 'max_lon': lon_max, 'min_lon': lon_min}\n",
    "    new_df = pd.DataFrame(data=new_dict)\n",
    "    new_df['AFFECTED ZONE']= new_df.values.tolist()\n",
    "    \n",
    "    df['AFFECTED ZONE'] = new_df['AFFECTED ZONE']\n",
    "    \n",
    "    return df"
   ]
  }
 ],
 "metadata": {
  "kernelspec": {
   "display_name": "Python 3 (Anaconda 3)",
   "language": "python",
   "name": "python3"
  },
  "language_info": {
   "codemirror_mode": {
    "name": "ipython",
    "version": 3
   },
   "file_extension": ".py",
   "mimetype": "text/x-python",
   "name": "python",
   "nbconvert_exporter": "python",
   "pygments_lexer": "ipython3",
   "version": "3.8.2"
  }
 },
 "nbformat": 4,
 "nbformat_minor": 4
}
