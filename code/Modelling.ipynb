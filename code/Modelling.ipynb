{
 "cells": [
  {
   "cell_type": "code",
   "execution_count": 1,
   "metadata": {},
   "outputs": [],
   "source": [
    "import pandas as pd\n",
    "pd.set_option('display.max_columns', None)\n",
    "\n",
    "import numpy as np\n",
    "from numpy import asarray\n",
    "\n",
    "from sklearn.preprocessing import OneHotEncoder\n",
    "from sklearn.linear_model import LinearRegression\n",
    "from sklearn.linear_model import RidgeCV, LassoCV, Ridge, Lasso\n",
    "from sklearn.metrics import accuracy_score\n",
    "from sklearn.metrics import mean_squared_error, r2_score\n",
    "import matplotlib.pyplot as plt\n",
    "\n",
    "# Filter out deprecated warnings\n",
    "import warnings\n",
    "warnings.filterwarnings(\"ignore\")"
   ]
  },
  {
   "cell_type": "code",
   "execution_count": 2,
   "metadata": {},
   "outputs": [],
   "source": [
    "green_cabs = pd.read_csv('../preprocessed_data/green_cabs.csv')\n",
    "test_df = pd.read_csv('../preprocessed_data/da_test_df.csv')"
   ]
  },
  {
   "cell_type": "code",
   "execution_count": 3,
   "metadata": {},
   "outputs": [],
   "source": [
    "# Clean df\n",
    "green_cabs = green_cabs.drop(columns = ['Unnamed: 0'])\n",
    "test_df = test_df.drop(columns = ['Unnamed: 0'])\n",
    "\n",
    "green_cabs = green_cabs.dropna()\n",
    "green_cabs = green_cabs.reset_index(drop=True)\n",
    "\n",
    "test_df = test_df.dropna()\n",
    "test_df = test_df.reset_index(drop=True)"
   ]
  },
  {
   "cell_type": "code",
   "execution_count": 4,
   "metadata": {},
   "outputs": [],
   "source": [
    "# Converting datatypes to fit model\n",
    "encoder = OneHotEncoder()\n",
    "pickup = encoder.fit_transform(green_cabs.pickup_zone.values.reshape(-1,1)).toarray()\n",
    "dropoff = encoder.fit_transform(green_cabs.dropoff_zone.values.reshape(-1,1)).toarray()\n",
    "\n",
    "green_cabs['pickup_zone'] = pickup\n",
    "green_cabs['dropoff_zone'] = dropoff"
   ]
  },
  {
   "cell_type": "markdown",
   "metadata": {},
   "source": [
    "# 1. Lasso Regularisation for Feature Selection"
   ]
  },
  {
   "cell_type": "code",
   "execution_count": 5,
   "metadata": {},
   "outputs": [],
   "source": [
    "# Remove any features that have direct relationship with fare_amount\n",
    "x_df = green_cabs.drop(columns=['fare_amount', 'fare/mile', 'total_amount', 'time_elapsed'])\n",
    "y_df = green_cabs[['fare_amount']]"
   ]
  },
  {
   "cell_type": "code",
   "execution_count": 6,
   "metadata": {},
   "outputs": [
    {
     "name": "stdout",
     "output_type": "stream",
     "text": [
      "Best alpha using built-in LassoCV: 8.836096\n",
      "Best score using built-in LassoCV: 0.770076\n"
     ]
    }
   ],
   "source": [
    "# Fit Lasso Regularisation\n",
    "reg = LassoCV()\n",
    "reg.fit(x_df, y_df)\n",
    "print(\"Best alpha using built-in LassoCV: %f\" % reg.alpha_)\n",
    "print(\"Best score using built-in LassoCV: %f\" %reg.score(x_df, y_df))\n",
    "coef = pd.Series(reg.coef_, index = x_df.columns)"
   ]
  },
  {
   "cell_type": "code",
   "execution_count": 7,
   "metadata": {},
   "outputs": [
    {
     "data": {
      "text/plain": [
       "passenger_count                   0.000000\n",
       "payment_type                     -0.000000\n",
       "ratecodeid                        0.000000\n",
       "tip_amount                        0.000000\n",
       "tolls_amount                      0.000000\n",
       "trip_distance                     1.783172\n",
       "p_weekday                        -0.000000\n",
       "p_hour                           -0.000000\n",
       "d_weekday                        -0.000000\n",
       "d_hour                           -0.000000\n",
       "pickup_zone                       0.000000\n",
       "dropoff_zone                      0.000000\n",
       "pickupX                          -0.000034\n",
       "pickupY                           0.000037\n",
       "dropoffX                          0.000015\n",
       "dropoffY                         -0.000085\n",
       "pickup_affected_by_collisions     0.000000\n",
       "dropoff_affected_by_collisions   -0.000000\n",
       "dtype: float64"
      ]
     },
     "execution_count": 7,
     "metadata": {},
     "output_type": "execute_result"
    }
   ],
   "source": [
    "coef"
   ]
  },
  {
   "cell_type": "code",
   "execution_count": 8,
   "metadata": {},
   "outputs": [
    {
     "data": {
      "text/plain": [
       "0.7982049736137257"
      ]
     },
     "execution_count": 8,
     "metadata": {},
     "output_type": "execute_result"
    }
   ],
   "source": [
    "green_cabs['trip_distance'].corr(green_cabs['time_elapsed'])"
   ]
  },
  {
   "cell_type": "code",
   "execution_count": 9,
   "metadata": {},
   "outputs": [],
   "source": [
    "FEAT_SELECTED = ['pickupX', 'pickupY', 'dropoffX', 'dropoffY', 'trip_distance']\n",
    "xfit = green_cabs[FEAT_SELECTED]\n",
    "yfit = green_cabs['fare_amount']"
   ]
  },
  {
   "cell_type": "code",
   "execution_count": 10,
   "metadata": {},
   "outputs": [],
   "source": [
    "reg = LinearRegression().fit(xfit, yfit)"
   ]
  },
  {
   "cell_type": "code",
   "execution_count": 11,
   "metadata": {},
   "outputs": [],
   "source": [
    "x_tst = test_df[FEAT_SELECTED]\n",
    "y_tst = test_df['fare_amount']"
   ]
  },
  {
   "cell_type": "code",
   "execution_count": 12,
   "metadata": {},
   "outputs": [],
   "source": [
    "y_pred = reg.predict(x_tst)"
   ]
  },
  {
   "cell_type": "code",
   "execution_count": 13,
   "metadata": {},
   "outputs": [
    {
     "name": "stdout",
     "output_type": "stream",
     "text": [
      "Coefficients: \n",
      " [ 6.88177817e-05 -3.51833615e-05 -1.02479858e-04  1.97037367e-05\n",
      "  2.96760869e+00]\n",
      "Mean squared error: 8.81\n",
      "Coefficient of determination: 0.89\n"
     ]
    }
   ],
   "source": [
    "# The coefficients\n",
    "print('Coefficients: \\n', reg.coef_)\n",
    "# The mean squared error\n",
    "print('Mean squared error: %.2f'\n",
    "      % mean_squared_error(y_tst, y_pred))\n",
    "# The coefficient of determination: 1 is perfect prediction\n",
    "print('Coefficient of determination: %.2f'\n",
    "      % r2_score(y_tst, y_pred))"
   ]
  },
  {
   "cell_type": "code",
   "execution_count": 14,
   "metadata": {},
   "outputs": [
    {
     "data": {
      "image/png": "[encoded data removed]",
      "text/plain": [
       "<Figure size 432x288 with 1 Axes>"
      ]
     },
     "metadata": {
      "needs_background": "light"
     },
     "output_type": "display_data"
    }
   ],
   "source": [
    "residuals = y_tst - y_pred\n",
    "plt.scatter(y_pred,residuals)\n",
    "plt.xlabel('Predicted Fare Amount')\n",
    "plt.ylabel('Residuals')\n",
    "plt.savefig('../plots/residual')"
   ]
  }
 ],
 "metadata": {
  "kernelspec": {
   "display_name": "Python 3 (Anaconda 3)",
   "language": "python",
   "name": "python3"
  },
  "language_info": {
   "codemirror_mode": {
    "name": "ipython",
    "version": 3
   },
   "file_extension": ".py",
   "mimetype": "text/x-python",
   "name": "python",
   "nbconvert_exporter": "python",
   "pygments_lexer": "ipython3",
   "version": "3.8.2"
  }
 },
 "nbformat": 4,
 "nbformat_minor": 4
}
