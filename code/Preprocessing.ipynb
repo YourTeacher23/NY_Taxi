{
 "cells": [
  {
   "cell_type": "code",
   "execution_count": 1,
   "metadata": {},
   "outputs": [],
   "source": [
    "import pandas as pd\n",
    "import numpy as np\n",
    "import matplotlib.pyplot as plt\n",
    "\n",
    "# Filter out deprecated warnings\n",
    "import warnings\n",
    "warnings.filterwarnings(\"ignore\")"
   ]
  },
  {
   "cell_type": "code",
   "execution_count": 2,
   "metadata": {},
   "outputs": [],
   "source": [
    "green_df2 = pd.read_csv('../preprocessed_data/ed_green_df.csv')\n",
    "traffic_collisions = pd.read_csv('../preprocessed_data/traffic_collisions.csv')\n",
    "test_df = pd.read_csv('../preprocessed_data/test_df.csv')"
   ]
  },
  {
   "cell_type": "markdown",
   "metadata": {},
   "source": [
    "# 1. Preprocessing"
   ]
  },
  {
   "cell_type": "markdown",
   "metadata": {},
   "source": [
    "1. In green_cabs, Ehail_fee consists of only 'nan', therefore should be removed. \n",
    "2. There is 'nan' in trip type, and trip type does not contribute much to our study."
   ]
  },
  {
   "cell_type": "code",
   "execution_count": 3,
   "metadata": {},
   "outputs": [],
   "source": [
    "def set_boundaries(df):\n",
    "    \"\"\" Make sure that all coordinates are within New York City, \n",
    "        remove those that are not \"\"\"\n",
    "    \n",
    "    MIN_LAT = 40.47739894\n",
    "    MAX_LAT = 40.91617849\n",
    "    MIN_LONG = -74.25909008\n",
    "    MAX_LONG = -73.70018092\n",
    "    \n",
    "    df = df[(df['pickup_latitude'] >= MIN_LAT) & (df['pickup_latitude'] <= MAX_LAT)]\n",
    "    df = df[(df['pickup_longitude'] >= MIN_LONG) & (df['pickup_longitude'] <= MAX_LONG)]\n",
    "    \n",
    "    df = df[(df['dropoff_latitude'] >= MIN_LAT) & (df['dropoff_latitude'] <= MAX_LAT)]\n",
    "    df = df[(df['dropoff_longitude'] >= MIN_LONG) & (df['dropoff_longitude'] <= MAX_LONG)]\n",
    "    \n",
    "    return df"
   ]
  },
  {
   "cell_type": "markdown",
   "metadata": {},
   "source": [
    "1. Fare amount negative due to refund by the company to the passenger\n",
    "2. 0 trip distance due to booking without attendance"
   ]
  },
  {
   "cell_type": "markdown",
   "metadata": {},
   "source": [
    "1. There are rows where trip_distance is 0 but fare_amount is not zero. \n",
    "2. There are also rows where the dropoff time is the same as the pickup time, but the trip_distance is not zero <br>\n",
    "These might be caused by a faulty taxi meter."
   ]
  },
  {
   "cell_type": "code",
   "execution_count": 4,
   "metadata": {},
   "outputs": [],
   "source": [
    "def faulty_meters(df):\n",
    "    \"\"\" Remove instances that are incorrect caused by faulty meters \"\"\"\n",
    "    \n",
    "    PICKUP_DATETIME = 5\n",
    "    DROPOFF_DATETIME = 4\n",
    "    \n",
    "    # the meter doesn't move but fare is paid\n",
    "    df2 = df[(df['fare_amount'] != 0) & (df['trip_distance'] == 0.0)]\n",
    "    \n",
    "    # time doesnt change but fare is paid\n",
    "    df3 = df[(df.iloc[:, PICKUP_DATETIME] == df.iloc[:, DROPOFF_DATETIME]) & (df['fare_amount'] != 0.0)]\n",
    "    \n",
    "    new_df = df2.append(df3)\n",
    "    return new_df, df"
   ]
  },
  {
   "cell_type": "code",
   "execution_count": 5,
   "metadata": {},
   "outputs": [],
   "source": [
    "from datetime import timedelta\n",
    "def find_time(df):\n",
    "    \"\"\" Separate time into days of the week, hours \"\"\"\n",
    "    \n",
    "    PICKUP_DATETIME = 5\n",
    "    DROPOFF_DATETIME = 4\n",
    "    \n",
    "    # convert str to datetime\n",
    "    df.iloc[:, PICKUP_DATETIME] = pd.to_datetime(df.iloc[:, PICKUP_DATETIME])\n",
    "    df.iloc[:, DROPOFF_DATETIME] = pd.to_datetime(df.iloc[:, DROPOFF_DATETIME])\n",
    "    \n",
    "    df['p_weekday'] = df.lpep_pickup_datetime.apply(lambda t: t.weekday())\n",
    "    df['p_hour'] = df.lpep_pickup_datetime.apply(lambda t: t.hour)\n",
    "    df['d_weekday'] = df.lpep_dropoff_datetime.apply(lambda t: t.weekday())\n",
    "    df['d_hour'] = df.lpep_dropoff_datetime.apply(lambda t: t.hour)\n",
    "    \n",
    "    df['time_elapsed'] = (df['lpep_dropoff_datetime'] - df['lpep_pickup_datetime']) / timedelta(minutes=1)\n",
    "    \n",
    "    return df"
   ]
  },
  {
   "cell_type": "code",
   "execution_count": 6,
   "metadata": {},
   "outputs": [],
   "source": [
    "def remove_outliers(df):\n",
    "    \"\"\" Removes outliers from the dataset \"\"\"\n",
    "    \n",
    "    # Fare per mile is more than $50.00\n",
    "    to_remove = df.index[(df['fare_amount']/df['trip_distance']) > 50.0].tolist()\n",
    "    df = df.drop(to_remove)\n",
    "    \n",
    "    # Fare per mile is less than $0.10\n",
    "    to_remove2 = df.index[(df['fare_amount']/df['trip_distance']) < 0.10].tolist()\n",
    "    df = df.drop(to_remove2)\n",
    "    \n",
    "    # Fare is less than $2.50 initil surcharge set by the TLC\n",
    "    to_remove3 = df.index[(df['fare_amount']) < 2.50].tolist()\n",
    "    df = df.drop(to_remove3)\n",
    "    \n",
    "    # Fare per minutes is less than $0.50\n",
    "    to_remove4 = df.index[(df['fare_amount']/df['time_elapsed']) < 0.50].tolist()\n",
    "    df = df.drop(to_remove4)\n",
    "    \n",
    "    return df"
   ]
  },
  {
   "cell_type": "code",
   "execution_count": 7,
   "metadata": {},
   "outputs": [],
   "source": [
    "def clean_df(df):\n",
    "    \n",
    "    COL = ['dropoff_latitude', 'dropoff_longitude', 'pickup_latitude', 'pickup_longitude', \n",
    "           'lpep_dropoff_datetime', 'lpep_pickup_datetime', 'extra', 'fare_amount', 'mta_tax', 'passenger_count', \n",
    "           'payment_type', 'ratecodeid', 'store_and_fwd_flag', 'tip_amount', 'tolls_amount', 'total_amount', \n",
    "           'trip_distance', 'vendorid', 'improvement_surcharge']\n",
    "    POSITIVE_FEAT = ['passenger_count', 'trip_distance', \n",
    "                     'fare_amount', 'tip_amount', \n",
    "                     'tolls_amount', 'total_amount']\n",
    "    \n",
    "    df.columns = df.columns.str.lower()\n",
    "    df = df.drop(columns='ehail_fee')\n",
    "    \n",
    "    # Rearrange columns in both df\n",
    "    df = df[COL]\n",
    "    \n",
    "    df = find_time(df)\n",
    "    \n",
    "    df = set_boundaries(df)\n",
    "    \n",
    "    for feature in POSITIVE_FEAT:\n",
    "        df = df[df[feature] >= 0]\n",
    "    \n",
    "    df = remove_outliers(df)\n",
    "    \n",
    "    green_faulty_meters, df = faulty_meters(df)\n",
    "    df = pd.concat([df, \n",
    "                    green_faulty_meters, \n",
    "                    green_faulty_meters]).drop_duplicates(keep=False)\n",
    "    df = df.reset_index(drop=True)\n",
    "    \n",
    "    df = df.dropna()\n",
    "    df = df.reset_index(drop=True)\n",
    "    \n",
    "    return df"
   ]
  },
  {
   "cell_type": "code",
   "execution_count": 8,
   "metadata": {},
   "outputs": [
    {
     "data": {
      "image/png": "[encoded data removed]",
      "text/plain": [
       "<Figure size 432x288 with 1 Axes>"
      ]
     },
     "metadata": {
      "needs_background": "light"
     },
     "output_type": "display_data"
    }
   ],
   "source": [
    "green_df2[['Fare_amount', 'Trip_distance']].plot.scatter(x='Fare_amount',y='Trip_distance')\n",
    "plt.savefig('../plots/outliers.png')\n",
    "plt.show()"
   ]
  },
  {
   "cell_type": "code",
   "execution_count": 9,
   "metadata": {},
   "outputs": [],
   "source": [
    "green_df2 = clean_df(green_df2)\n",
    "test_df = clean_df(test_df)"
   ]
  },
  {
   "cell_type": "code",
   "execution_count": 10,
   "metadata": {},
   "outputs": [
    {
     "data": {
      "image/png": "[encoded data removed]",
      "text/plain": [
       "<Figure size 432x288 with 1 Axes>"
      ]
     },
     "metadata": {
      "needs_background": "light"
     },
     "output_type": "display_data"
    }
   ],
   "source": [
    "green_df2[['fare_amount', 'trip_distance']].plot.scatter(x='fare_amount',y='trip_distance')\n",
    "plt.savefig('../plots/remove_outliers.png')\n",
    "plt.show()"
   ]
  },
  {
   "cell_type": "code",
   "execution_count": 11,
   "metadata": {},
   "outputs": [],
   "source": [
    "# remove irrelevant features\n",
    "green_df2 = green_df2.drop(columns=['extra', 'mta_tax', 'store_and_fwd_flag', \n",
    "                                    'vendorid', 'improvement_surcharge'])\n",
    "test_df = test_df.drop(columns=['extra', 'mta_tax', 'store_and_fwd_flag', \n",
    "                                'vendorid', 'improvement_surcharge'])"
   ]
  },
  {
   "cell_type": "code",
   "execution_count": 12,
   "metadata": {},
   "outputs": [],
   "source": [
    "green_df2 = green_df2.dropna()\n",
    "green_df2 = green_df2.reset_index(drop=True)"
   ]
  },
  {
   "cell_type": "code",
   "execution_count": 13,
   "metadata": {},
   "outputs": [],
   "source": [
    "import geopandas as gpd\n",
    "\n",
    "# sf stands for shape file\n",
    "sf = gpd.read_file(\"../raw_data/taxi_zones/taxi_zones.shp\")\n",
    "zone = pd.read_csv(\"../raw_data/taxi_zones/taxi+_zone_lookup.csv\")\n",
    "\n",
    "# Convert the geometry shape to latitude and longitude\n",
    "# Please attribute this if you are using it\n",
    "sf['geometry'] = sf['geometry'].to_crs(\"+proj=longlat +ellps=WGS84 +datum=WGS84 +no_defs\")"
   ]
  },
  {
   "cell_type": "code",
   "execution_count": 14,
   "metadata": {},
   "outputs": [],
   "source": [
    "import geopy\n",
    "from geopy.geocoders import Nominatim\n",
    "from geopy.extra.rate_limiter import RateLimiter\n",
    "\n",
    "zones = list(sf.borough.unique())\n",
    "zone_dict = {}\n",
    "\n",
    "for area in zones:\n",
    "    locator = Nominatim(user_agent = \"myGeocoder\")\n",
    "    location = locator.geocode(area)\n",
    "    zone_dict[area] = location.raw['boundingbox']\n",
    "    "
   ]
  },
  {
   "cell_type": "code",
   "execution_count": 15,
   "metadata": {},
   "outputs": [],
   "source": [
    "# Coordinates between JFK Airport pickup and dropoff zone\n",
    "JFK_LAT = 40.644456\n",
    "JFK_LON = -73.782875\n",
    "\n",
    "# Given the distance in metres, calculate the change in degree\n",
    "distance = 10\n",
    "lat_angle = 0.001 * (distance / 2.0) * np.cos(JFK_LAT)\n",
    "lon_angle = 0.001 * (distance / 2.0) * np.cos(JFK_LON)\n",
    "lat_min = str(JFK_LAT + lat_angle)\n",
    "lat_max = str(JFK_LAT - lat_angle)\n",
    "lon_min = str(JFK_LON + lon_angle)\n",
    "lon_max = str(JFK_LON - lon_angle)\n",
    "zone_dict['JFK'] = [lat_min, lat_max, lon_min, lon_max]\n",
    "\n",
    "wanted_order = ['JFK', 'EWR', 'Manhattan', \n",
    "                'Staten Island', 'Queens', 'Brooklyn', 'Bronx']\n",
    "zone_dict = {p: zone_dict[p] for p in wanted_order}"
   ]
  },
  {
   "cell_type": "code",
   "execution_count": 16,
   "metadata": {},
   "outputs": [],
   "source": [
    "def find_zone(df, ride_type):\n",
    "    \"\"\" Find the pickup and dropoff zones based on their latitude and longitude \"\"\"\n",
    "    \n",
    "    zone_list = []\n",
    "    \n",
    "    for i in range(len(df)):\n",
    "        \n",
    "        if ride_type == \"\":\n",
    "            lat = df.loc[i, 'LATITUDE']\n",
    "            lon = df.loc[i, 'LONGITUDE']\n",
    "        else: \n",
    "            lat = df.loc[i, ride_type + '_latitude']\n",
    "            lon = df.loc[i, ride_type + '_longitude']\n",
    "\n",
    "        toggle = 1\n",
    "        for zone in zone_dict:\n",
    "\n",
    "            MIN_LAT = float(zone_dict[zone][0])\n",
    "            MAX_LAT = float(zone_dict[zone][1])\n",
    "            MIN_LON = float(zone_dict[zone][2])\n",
    "            MAX_LON = float(zone_dict[zone][3])\n",
    "\n",
    "            if ((MIN_LAT <= lat <= MAX_LAT) & (MIN_LON <= lon <= MAX_LON)):\n",
    "                zone_list.append(zone)\n",
    "                toggle = 0\n",
    "                break\n",
    "        \n",
    "        # insert nan when the coordinate is not in any zone\n",
    "        if toggle:\n",
    "            zone_list.append(np.nan)\n",
    "            \n",
    "    return zone_list\n",
    "\n",
    "green_df2['pickup_zone'] = find_zone(green_df2, 'pickup')\n",
    "green_df2['dropoff_zone'] = find_zone(green_df2, 'dropoff')"
   ]
  },
  {
   "cell_type": "code",
   "execution_count": 17,
   "metadata": {},
   "outputs": [],
   "source": [
    "\"\"\" This code is taken from the Python Stream Workshop Repository, \n",
    "    https://github.com/akiratwang/MAST30034_Python/blob/main/tutorials/Lab1_Python.ipynb \"\"\"\n",
    "\n",
    "def latitude_to_mercator(coords):\n",
    "    \"\"\" Function which converts an array of latitude coordinates \n",
    "        into its mercator coordinate representation \"\"\"\n",
    "    k = 6378137\n",
    "    converted = list()\n",
    "    for lat in coords:\n",
    "        converted.append(np.log(np.tan((90 + lat) * np.pi/360.0)) * k)\n",
    "    return converted\n",
    "\n",
    "def longitude_to_mercator(coords):\n",
    "    \"\"\"\n",
    "    Function which converts an array of longitude coordinates \n",
    "    into its mercator coordinate representation\n",
    "    \"\"\"\n",
    "    k = 6378137\n",
    "    converted = list()\n",
    "    for lon in coords:\n",
    "        converted.append(lon * (k * np.pi/180.0))\n",
    "    return converted"
   ]
  },
  {
   "cell_type": "code",
   "execution_count": 18,
   "metadata": {},
   "outputs": [],
   "source": [
    "def convert_mercator(df):\n",
    "    \"\"\" Add mercator columns to dataframe \"\"\"\n",
    "    \n",
    "    df['pickupX'] = df['pickup_longitude'].apply(lambda x: longitude_to_mercator([x])[0])\n",
    "    df['pickupY'] = df['pickup_latitude'].apply(lambda x: latitude_to_mercator([x])[0])\n",
    "    df['dropoffX'] = df['dropoff_longitude'].apply(lambda x: longitude_to_mercator([x])[0])\n",
    "    df['dropoffY'] = df['dropoff_latitude'].apply(lambda x: latitude_to_mercator([x])[0])\n",
    "    \n",
    "    return df\n",
    "\n",
    "green_df2 = convert_mercator(green_df2)\n",
    "test_df = convert_mercator(test_df)"
   ]
  },
  {
   "cell_type": "markdown",
   "metadata": {},
   "source": [
    "# External Dataset"
   ]
  },
  {
   "cell_type": "code",
   "execution_count": 19,
   "metadata": {},
   "outputs": [],
   "source": [
    "# Filter traffic collision dataset to the corresponding time frame\n",
    "traffic_collisions = traffic_collisions.dropna(subset=['LATITUDE', 'LONGITUDE'])\n",
    "collisions_2016 = traffic_collisions[traffic_collisions['CRASH DATE'].str.endswith('2016')]\n",
    "collisions_2016 = collisions_2016[(collisions_2016['CRASH DATE'].str.startswith('01')) | \n",
    "                                  (collisions_2016['CRASH DATE'].str.startswith('02')) |\n",
    "                                  (collisions_2016['CRASH DATE'].str.startswith('03'))]"
   ]
  },
  {
   "cell_type": "code",
   "execution_count": 20,
   "metadata": {},
   "outputs": [],
   "source": [
    "# select relevant columns\n",
    "wanted = ['CRASH DATE', 'CRASH TIME', 'BOROUGH', 'LONGITUDE', 'LATITUDE',\n",
    "          'NUMBER OF PERSONS INJURED', 'NUMBER OF PERSONS KILLED', \n",
    "          'NUMBER OF PEDESTRIANS INJURED', 'NUMBER OF PEDESTRIANS KILLED', \n",
    "          'NUMBER OF CYCLIST INJURED', 'NUMBER OF CYCLIST KILLED', \n",
    "          'NUMBER OF MOTORIST INJURED', 'NUMBER OF MOTORIST KILLED']\n",
    "\n",
    "collisions = collisions_2016[wanted]\n",
    "collisions = collisions.reset_index(drop=True)"
   ]
  },
  {
   "cell_type": "code",
   "execution_count": 21,
   "metadata": {},
   "outputs": [],
   "source": [
    "# replace nan in 'BOROUGHS' with zones\n",
    "collision_zone = find_zone(collisions, \"\")\n",
    "collisions['BOROUGH'] = collision_zone\n",
    "collisions = collisions.dropna()"
   ]
  },
  {
   "cell_type": "code",
   "execution_count": 22,
   "metadata": {},
   "outputs": [],
   "source": [
    "# Set boundaries for collisions_df\n",
    "MIN_LAT = 40.47739894\n",
    "MAX_LAT = 40.91617849\n",
    "MIN_LONG = -74.25909008\n",
    "MAX_LONG = -73.70018092\n",
    "\n",
    "collisions = collisions[(collisions['LATITUDE'] >= MIN_LAT) & (collisions['LATITUDE'] <= MAX_LAT)]\n",
    "collisions = collisions[(collisions['LONGITUDE'] >= MIN_LONG) & (collisions['LONGITUDE'] <= MAX_LONG)]"
   ]
  },
  {
   "cell_type": "code",
   "execution_count": 23,
   "metadata": {},
   "outputs": [],
   "source": [
    "# convert crash time to datetime\n",
    "collisions['CRASH TIME'] = collisions['CRASH TIME'] + ':00'\n",
    "collisions['DATETIME'] = collisions['CRASH DATE'] + ' ' + collisions['CRASH TIME']\n",
    "collisions['DATETIME'] = pd.to_datetime(collisions['DATETIME'])"
   ]
  },
  {
   "cell_type": "code",
   "execution_count": 24,
   "metadata": {},
   "outputs": [],
   "source": [
    "# Assumes an affected time period of 1 hour\n",
    "collisions['ENDTIME'] = collisions['DATETIME'] + pd.Timedelta(hours=1)"
   ]
  },
  {
   "cell_type": "code",
   "execution_count": 25,
   "metadata": {},
   "outputs": [],
   "source": [
    "collisions['X'] = collisions['LONGITUDE'].apply(lambda x: longitude_to_mercator([x])[0])\n",
    "collisions['Y'] = collisions['LATITUDE'].apply(lambda x: latitude_to_mercator([x])[0])"
   ]
  },
  {
   "cell_type": "code",
   "execution_count": 26,
   "metadata": {},
   "outputs": [],
   "source": [
    "# Select useful columns and fill NAN with 0s'\n",
    "final_wanted = ['DATETIME', 'ENDTIME', 'BOROUGH']\n",
    "collisions_df = collisions[final_wanted]"
   ]
  },
  {
   "cell_type": "code",
   "execution_count": 27,
   "metadata": {},
   "outputs": [],
   "source": [
    "def affected(ori_df, ext_df):\n",
    "    \"\"\" Find rows affected by traffic collisions,\n",
    "        returns two lists,\n",
    "        dropoffs affected and pickups affected \"\"\"\n",
    "    \n",
    "    pickup_time = list(ori_df['lpep_pickup_datetime'])\n",
    "    pickup_zone = list(ori_df['pickup_zone'])\n",
    "    dropoff_time = list(ori_df['lpep_dropoff_datetime'])\n",
    "    dropoff_zone = list(ori_df['dropoff_zone'])\n",
    "    \n",
    "    # use same function to find the affected rows\n",
    "    pickup_affected = drop_pick_affected(ext_df, pickup_zone, pickup_time)\n",
    "    dropoff_affected = drop_pick_affected(ext_df, dropoff_zone, dropoff_time)\n",
    "    \n",
    "    return pickup_affected, dropoff_affected\n",
    "\n",
    "def drop_pick_affected(ext_df, zone, time):\n",
    "    \"\"\" Find affected rows where pickups or dropoffs are affected,\n",
    "        returns a list of affected rows \"\"\"\n",
    "    \n",
    "    affected = []\n",
    "    \n",
    "    crash_time = list(ext_df['DATETIME'])\n",
    "    crash_end = list(ext_df['ENDTIME'])\n",
    "    crash_zone = list(ext_df['BOROUGH'])\n",
    "    \n",
    "    for i in range(len(time)):\n",
    "        \n",
    "        # 1 is given if a row is affected\n",
    "        # 0 when a row is unaffected\n",
    "        affected_bool = 0\n",
    "        \n",
    "        for j in range(len(crash_time)):\n",
    "            \n",
    "            # if time is between crash time and affected period\n",
    "            # and is in the same zone\n",
    "            if (crash_time[j] < time[i] <= crash_end[j]) & (crash_zone[j] == zone[i]):\n",
    "                affected_bool = 1\n",
    "\n",
    "            break\n",
    "            \n",
    "        affected.append(affected_bool)\n",
    "        \n",
    "    return affected\n",
    "pickup_affected, dropoff_affected = affected(green_df2, collisions_df)\n",
    "green_df2['pickup_affected_by_collisions'] = pickup_affected\n",
    "green_df2['dropoff_affected_by_collisions'] = dropoff_affected"
   ]
  },
  {
   "cell_type": "code",
   "execution_count": 28,
   "metadata": {},
   "outputs": [],
   "source": [
    "green_df2 = green_df2.drop(columns=['lpep_pickup_datetime', 'lpep_dropoff_datetime'])\n",
    "test_df = test_df.drop(columns=['lpep_pickup_datetime', 'lpep_dropoff_datetime'])"
   ]
  },
  {
   "cell_type": "code",
   "execution_count": 29,
   "metadata": {},
   "outputs": [],
   "source": [
    "# Convert the collisions column to boolean\n",
    "green_df2.iloc[:, -2:] = green_df2.iloc[:, -2:].astype(bool)"
   ]
  },
  {
   "cell_type": "code",
   "execution_count": 30,
   "metadata": {},
   "outputs": [],
   "source": [
    "green_df2 = green_df2.reset_index(drop=True)"
   ]
  },
  {
   "cell_type": "code",
   "execution_count": 31,
   "metadata": {},
   "outputs": [],
   "source": [
    "green_df2.to_csv(r'../preprocessed_data/green_df2.csv')\n",
    "test_df.to_csv(r'../preprocessed_data/pp_test_df.csv')\n",
    "collisions_df.to_csv(r'../preprocessed_data/collisions_df.csv')\n",
    "collisions.to_csv(r'../preprocessed_data/collisions.csv')"
   ]
  }
 ],
 "metadata": {
  "kernelspec": {
   "display_name": "Python 3 (Anaconda 3)",
   "language": "python",
   "name": "python3"
  },
  "language_info": {
   "codemirror_mode": {
    "name": "ipython",
    "version": 3
   },
   "file_extension": ".py",
   "mimetype": "text/x-python",
   "name": "python",
   "nbconvert_exporter": "python",
   "pygments_lexer": "ipython3",
   "version": "3.8.2"
  }
 },
 "nbformat": 4,
 "nbformat_minor": 4
}
