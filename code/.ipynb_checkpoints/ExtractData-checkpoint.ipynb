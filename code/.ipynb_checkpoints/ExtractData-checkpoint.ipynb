{
 "cells": [
  {
   "cell_type": "code",
   "execution_count": null,
   "metadata": {},
   "outputs": [],
   "source": [
    "# Installing required packages\n",
    "pip install geopandas\n",
    "pip install geopy"
   ]
  },
  {
   "cell_type": "code",
   "execution_count": 1,
   "metadata": {},
   "outputs": [],
   "source": [
    "import pandas as pd\n",
    "\n",
    "# Filter out deprecated warnings\n",
    "import warnings\n",
    "warnings.filterwarnings(\"ignore\")"
   ]
  },
  {
   "cell_type": "code",
   "execution_count": 4,
   "metadata": {},
   "outputs": [],
   "source": [
    "# Loading Data\n",
    "green1 = pd.read_csv('../green_tripdata_2016-01.csv')\n",
    "green2 = pd.read_csv('../green_tripdata_2016-02.csv')\n",
    "green3 = pd.read_csv('../green_tripdata_2016-03.csv')\n",
    "green4 = pd.read_csv('../green_tripdata_2016-04.csv')\n",
    "green5 = pd.read_csv('../green_tripdata_2016-05.csv')\n",
    "green6 = pd.read_csv('../green_tripdata_2016-06.csv')\n",
    "\n",
    "traffic_collisions = pd.read_csv('../rows.csv?accessType=DOWNLOAD')"
   ]
  },
  {
   "cell_type": "code",
   "execution_count": 5,
   "metadata": {},
   "outputs": [],
   "source": [
    "# combine data for green cabs into one dataframe\n",
    "green_df = green1.append([green2, green3])\n",
    "test_df = green4.append([green5, green6])"
   ]
  },
  {
   "cell_type": "code",
   "execution_count": 6,
   "metadata": {},
   "outputs": [],
   "source": [
    "green_df.to_csv(r'../preprocessed_data/ed_green_df.csv')\n",
    "traffic_collisions.to_csv(r'../preprocessed_data/traffic_collisions.csv')\n",
    "test_df.to_csv(r'../preprocessed_data/test_df.csv')"
   ]
  }
 ],
 "metadata": {
  "kernelspec": {
   "display_name": "Python 3 (Anaconda 3)",
   "language": "python",
   "name": "python3"
  },
  "language_info": {
   "codemirror_mode": {
    "name": "ipython",
    "version": 3
   },
   "file_extension": ".py",
   "mimetype": "text/x-python",
   "name": "python",
   "nbconvert_exporter": "python",
   "pygments_lexer": "ipython3",
   "version": "3.8.2"
  }
 },
 "nbformat": 4,
 "nbformat_minor": 4
}
